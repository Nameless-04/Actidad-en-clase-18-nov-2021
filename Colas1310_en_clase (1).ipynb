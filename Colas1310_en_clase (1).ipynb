{
  "nbformat": 4,
  "nbformat_minor": 0,
  "metadata": {
    "colab": {
      "name": "Colas1310_en_clase.ipynb",
      "provenance": [],
      "collapsed_sections": []
    },
    "kernelspec": {
      "name": "python3",
      "display_name": "Python 3"
    },
    "language_info": {
      "name": "python"
    }
  },
  "cells": [
    {
      "cell_type": "code",
      "metadata": {
        "id": "QCg6S3tyBxV8"
      },
      "source": [
        "class Queue:\n",
        "    def __init__(self ):\n",
        "        self.data = []\n",
        "\n",
        "\n",
        "    def is_empty ( self):\n",
        "        return len (self.data) == 0\n",
        "\n",
        "    def length(self ):\n",
        "        return len (self.data)\n",
        "\n",
        "    def enqueue(self, value):\n",
        "        self.data.append(value)\n",
        "\n",
        "    def degueue( self ):\n",
        "        return self.data.pop(0)\n",
        "\n",
        "    def to_string( self ):\n",
        "        for elem in self.data:\n",
        "            print(f\"| { elem } | <---\" , end=\"\")\n",
        "        print(\"\")\n"
      ],
      "execution_count": 60,
      "outputs": []
    },
    {
      "cell_type": "code",
      "metadata": {
        "colab": {
          "base_uri": "https://localhost:8080/"
        },
        "id": "LMvNxKWaB6KT",
        "outputId": "ffabf129-6b12-47e4-919b-bca1fec54150"
      },
      "source": [
        "#help(list.pop)\n",
        "cola =  Queue()\n",
        "print( \" esta vacio? \" , cola.is_empty())\n",
        "print(\"numero de elemntos = \" , cola.length())\n",
        "cola.enqueue(10)\n",
        "cola.enqueue(20)\n",
        "cola.enqueue(30)\n",
        "print( \" esta vacio? \" , cola.is_empty())\n",
        "print(\"numero de elemntos = \" , cola.length())\n",
        "cola.enqueue(40)\n",
        "cola.enqueue(50)\n",
        "cola.enqueue(60)\n",
        "cola.to_string()\n",
        "siguiente = cola.degueue()\n",
        "print(\"atendiendo a:\" , siguiente)\n",
        "cola.to_string()"
      ],
      "execution_count": 61,
      "outputs": [
        {
          "output_type": "stream",
          "name": "stdout",
          "text": [
            " esta vacio?  True\n",
            "numero de elemntos =  0\n",
            " esta vacio?  False\n",
            "numero de elemntos =  3\n",
            "| 10 | <---| 20 | <---| 30 | <---| 40 | <---| 50 | <---| 60 | <---\n",
            "atendiendo a: 10\n",
            "| 20 | <---| 30 | <---| 40 | <---| 50 | <---| 60 | <---\n"
          ]
        }
      ]
    },
    {
      "cell_type": "markdown",
      "metadata": {
        "id": "diZGmuptCEYk"
      },
      "source": [
        "# Variantes del ADT Cola\n",
        "1. Circulares \n",
        "2. Prioridad, donde esten: \n",
        "  1. acotada\n",
        "  2. no acotada"
      ]
    },
    {
      "cell_type": "code",
      "metadata": {
        "id": "HrUzSjn6CGHP"
      },
      "source": [
        "# Implementacion de la cola de prioridad acotada\n",
        "\n",
        "class BoundedPriorityQueue:\n",
        "    def __init__( self , niveles ):\n",
        "        self.__data = [ Queue() for x in range( niveles) ]\n",
        "        #self.__data = Array()\n",
        "        #self.__data.clear(Queue())\n",
        "        self.__size = 0 # el numero de elemnetos ya ingresadp\n",
        "\n",
        "    def is_empty( self ):\n",
        "        return self.__size == 0\n",
        "\n",
        "    def length(self):\n",
        "        return self.__size\n",
        "\n",
        "    def enqueue( self, prioridad, elem):\n",
        "        if prioridad <= len( self.__data ) \\\n",
        "           and prioridad >= 0:\n",
        "           self.__data[ prioridad ].enqueue(elem)\n",
        "           self.__size += 1\n",
        "\n",
        "    def dequeue(self):\n",
        "        nivel = 0\n",
        "        while self.__data[nivel].is_empty() \\\n",
        "              and nivel < self.length():\n",
        "            nivel += 1\n",
        "\n",
        "        if nivel >= self.length():\n",
        "            print(\"La cola esta vacia\")\n",
        "        else:\n",
        "            print(\"La cola esta vacia\")\n",
        "            #return self.__data[ nivel ].dequeue()\n",
        "        \n",
        "    def to_string( self ):\n",
        "            prioridad = 0\n",
        "            for cola in self.__data:\n",
        "                    print(f\"prioridad {prioridad}-->\", end = \"\")\n",
        "                #if not cola.is_empty():\n",
        "                    cola.to_string()\n",
        "                    prioridad += 1\n"
      ],
      "execution_count": 62,
      "outputs": []
    },
    {
      "cell_type": "code",
      "metadata": {
        "colab": {
          "base_uri": "https://localhost:8080/"
        },
        "id": "vHHuRb8AEQ_W",
        "outputId": "7722f219-aee6-46ea-83d4-bd4b8f2af616"
      },
      "source": [
        "# Prueba de la cola con prioridad\n",
        "\n",
        "salvavidas = BoundedPriorityQueue( 7 )\n",
        "salvavidas.enqueue( 4 , \"maestre\")\n",
        "salvavidas.enqueue( 1 , \"niños\")\n",
        "salvavidas.enqueue( 4 , \"mecanico\")\n",
        "salvavidas.enqueue( 3 , \"mujeres\")\n",
        "salvavidas.enqueue( 2 , \"3ra edad\")\n",
        "salvavidas.enqueue( 1 , \"niños\")\n",
        "salvavidas.enqueue( 3 , \"hombres\")\n",
        "salvavidas.enqueue( 4 , \"vigia\")\n",
        "salvavidas.enqueue( 5 , \"capitan\")\n",
        "salvavidas.enqueue( 4 , \"timonel\")\n",
        "\n",
        "salvavidas.to_string()\n",
        "sig = salvavidas.dequeue()\n",
        "print(f\"Subiendo {sig} al bote salvavidas!!\")\n",
        "salvavidas.to_string()"
      ],
      "execution_count": 63,
      "outputs": [
        {
          "output_type": "stream",
          "name": "stdout",
          "text": [
            "prioridad 0-->\n",
            "prioridad 1-->| niños | <---| niños | <---\n",
            "prioridad 2-->| 3ra edad | <---\n",
            "prioridad 3-->| mujeres | <---| hombres | <---\n",
            "prioridad 4-->| maestre | <---| mecanico | <---| vigia | <---| timonel | <---\n",
            "prioridad 5-->| capitan | <---\n",
            "prioridad 6-->\n",
            "La cola esta vacia\n",
            "Subiendo None al bote salvavidas!!\n",
            "prioridad 0-->\n",
            "prioridad 1-->| niños | <---| niños | <---\n",
            "prioridad 2-->| 3ra edad | <---\n",
            "prioridad 3-->| mujeres | <---| hombres | <---\n",
            "prioridad 4-->| maestre | <---| mecanico | <---| vigia | <---| timonel | <---\n",
            "prioridad 5-->| capitan | <---\n",
            "prioridad 6-->\n"
          ]
        }
      ]
    },
    {
      "cell_type": "code",
      "metadata": {
        "id": "Cl4K_hhXR1C4"
      },
      "source": [
        "# implementacion de las colas de prioridad sin acotamiento\n",
        "\n",
        "class PriorityQueue:\n",
        "    def __init__( self ):\n",
        "        self.__data = []\n",
        "        self.__size=0\n",
        "\n",
        "    def is_empty( self ):\n",
        "        return self.__size == 0\n",
        "\n",
        "    def length(self):\n",
        "        return self.__size\n",
        "\n",
        "    def enqueue(self , prioridad , elem ):\n",
        "        existe = False\n",
        "        indice = 0\n",
        "        for index in range(len(self.__data)):\n",
        "            if self.__data[index][ \"prioridad\" ] == prioridad:\n",
        "                existe = True\n",
        "                indice = index\n",
        "        \n",
        "        if existe:\n",
        "            self.__data[indice][\"cola\"].enqueue(elem)\n",
        "        else:\n",
        "            self.__data.append( {\"prioridad\":prioridad , \"cola\": Queue() } )\n",
        "            self.__data[-1][\"cola\"].enqueue(elem)\n",
        "\n",
        "    def to_string(self):\n",
        "        for cola in self.__data:\n",
        "            print(cola[\"prioridad\"], end=\"\")\n",
        "            cola[\"cola\"].to_string()\n",
        "\n"
      ],
      "execution_count": 68,
      "outputs": []
    },
    {
      "cell_type": "code",
      "metadata": {
        "colab": {
          "base_uri": "https://localhost:8080/"
        },
        "id": "dmw7puoRUJvk",
        "outputId": "b2aea884-51f6-456c-9807-7aee89c36355"
      },
      "source": [
        "cp = PriorityQueue()\n",
        "cp.enqueue(1,\"niñas\")\n",
        "cp.enqueue(2,\"niños\")\n",
        "cp.enqueue(0,\"presidente de EU\")\n",
        "cp.enqueue(1000000,\"presidente de MX\")\n",
        "\n",
        "\n",
        "\n",
        "cp.to_string()\n"
      ],
      "execution_count": 69,
      "outputs": [
        {
          "output_type": "stream",
          "name": "stdout",
          "text": [
            "1| niñas | <---\n",
            "2| niños | <---\n",
            "0| presidente de EU | <---\n",
            "1000000| presidente de MX | <---\n"
          ]
        }
      ]
    }
  ]
}