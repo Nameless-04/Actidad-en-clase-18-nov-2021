{
  "nbformat": 4,
  "nbformat_minor": 0,
  "metadata": {
    "colab": {
      "name": "Arboles_1310.ipynb",
      "provenance": []
    },
    "kernelspec": {
      "name": "python3",
      "display_name": "Python 3"
    },
    "language_info": {
      "name": "python"
    }
  },
  "cells": [
    {
      "cell_type": "code",
      "metadata": {
        "id": "VY0raL8821QW"
      },
      "source": [
        "class NodoBinario:\n",
        "    def __init__(self, value, left = None, rigth = None):\n",
        "        self.data = value\n",
        "        self.left = left\n",
        "        self.rigth = rigth\n",
        "\n",
        "class NodoTernario:\n",
        "    def __init__( self, value, left= None, center = None, rigth = None):\n",
        "        self.data = value\n",
        "        self.left = left\n",
        "        self.center = center\n",
        "        self.rigth = rigth\n"
      ],
      "execution_count": null,
      "outputs": []
    },
    {
      "cell_type": "code",
      "metadata": {
        "colab": {
          "base_uri": "https://localhost:8080/"
        },
        "id": "inoqlqvDDzYF",
        "outputId": "57d3ea89-7a13-49d4-9b9f-7c8e4be7236e"
      },
      "source": [
        "# para el primer albol\n",
        "arbol1 = NodoBinario(\"R\", NodoBinario(\"C\"),NodoBinario(\"H\"))\n",
        "print(arbol1.rigth.data)\n",
        "\n",
        "arbol2 = NodoTernario(4, NodoTernario(3,\\\n",
        "        NodoTernario(5, left =NodoTernario(2)),\\\n",
        "        NodoTernario(5),NodoTernario(2)), None, NodoTernario(5))\n",
        "print(arbol2.left.rigth.data)\n",
        "# para la raiz\n",
        "print(arbol2.data)\n",
        "#para imprimir  el 5\n",
        "print(arbol2.left.center.data)\n",
        "# aqui habra un vacio \n",
        "print(arbol2.rigth.left)\n",
        "print(arbol2.left.left.left.data)\n",
        "print(\"---imprimir el mismo sin usar la palabra left---\")\n",
        "ejemplo= arbol2.left.left.left.data\n",
        "print(ejemplo)\n",
        "print(\"--- otra forma..? ---\")\n",
        "aux= arbol2\n",
        "while( aux.left !=None):\n",
        "    aux = aux.left\n",
        "print(aux.data)\n",
        "\n"
      ],
      "execution_count": null,
      "outputs": [
        {
          "output_type": "stream",
          "name": "stdout",
          "text": [
            "H\n",
            "2\n",
            "4\n",
            "5\n",
            "None\n",
            "2\n",
            "---imprimir el mismo sin usar la palabra left---\n",
            "2\n",
            "otra forma..?\n",
            "2\n"
          ]
        }
      ]
    },
    {
      "cell_type": "code",
      "metadata": {
        "colab": {
          "base_uri": "https://localhost:8080/"
        },
        "id": "RsemK0vAIvLc",
        "outputId": "eb80bd6f-3946-4197-f806-dc48d4e7427a"
      },
      "source": [
        "root = NodoBinario(\"Santi\",None,NodoBinario(\"Jesus\",NodoBinario(\"Pedro\",None,NodoBinario(\" Pedro jr\"))))\n",
        "print(root.rigth.left.rigth.data)\n"
      ],
      "execution_count": null,
      "outputs": [
        {
          "output_type": "stream",
          "name": "stdout",
          "text": [
            " Pedro jr\n"
          ]
        }
      ]
    },
    {
      "cell_type": "code",
      "metadata": {
        "id": "0_Zfxk9aJ2Q5"
      },
      "source": [
        ""
      ],
      "execution_count": null,
      "outputs": []
    }
  ]
}